{
 "cells": [
  {
   "cell_type": "code",
   "execution_count": null,
   "metadata": {},
   "outputs": [],
   "source": [
    "import numpy as np\n",
    "from scipy.io import loadmat\n",
    "data = loadmat('D:\\\\z\\\\1\\\\ex3data1.mat')\n",
    "print(data)\n",
    "print(data['X'])\n",
    "print(data['y'])\n",
    "print('X Shape = ' , data['X'].shape)\n",
    "print('Y Shape = ', data['y'].shape)\n",
    "print(data['X'][0])\n",
    "print(data['X'][0][155])\n",
    "print('===================================================')"
   ]
  },
  {
   "cell_type": "code",
   "execution_count": null,
   "metadata": {},
   "outputs": [],
   "source": [
    "def sigmoid(z):\n",
    "return 1 / (1 + np.exp(-z))\n",
    "def cost(theta, X, y, learningRate):\n",
    "theta = np.matrix(theta)\n",
    "X = np.matrix(X)\n",
    "y = np.matrix(y)\n",
    "first = np.multiply(-y, np.log(sigmoid(X * theta.T)))\n",
    "second = np.multiply((1 - y), np.log(1 - sigmoid(X * theta.T)))\n",
    "reg = (learningRate / 2 * len(X)) * np.sum(np.power(theta[:,1:theta.shape[1]], 2))\n",
    "return np.sum(first - second) / (len(X)) + reg\n",
    "def gradient_with_loop(theta, X, y, learningRate):\n",
    "theta = np.matrix(theta)\n",
    "X = np.matrix(X)\n",
    "y = np.matrix(y)\n",
    "parameters = int(theta.ravel().shape[1])\n",
    "grad = np.zeros(parameters)\n",
    "error = sigmoid(X * theta.T) - y\n",
    "for i in range(parameters):\n",
    "term = np.multiply(error, X[:,i])\n",
    "if (i == 0):\n",
    "grad[i] = np.sum(term) / len(X)\n",
    "else:\n",
    "grad[i] = (np.sum(term) / len(X)) + ((learningRate / len(X)) * theta[:,i])\n",
    "return grad"
   ]
  },
  {
   "cell_type": "code",
   "execution_count": null,
   "metadata": {},
   "outputs": [],
   "source": [
    "def gradient(theta, X, y, learningRate):\n",
    "theta = np.matrix(theta)\n",
    "X = np.matrix(X)\n",
    "y = np.matrix(y)\n",
    "parameters = int(theta.ravel().shape[1])\n",
    "error = sigmoid(X * theta.T) - y\n",
    "grad = ((X.T * error) / len(X)).T + ((learningRate / len(X)) * theta)\n",
    "# intercept gradient is not regularized\n",
    "grad[0, 0] = np.sum(np.multiply(error, X[:,0])) / len(X)\n",
    "return np.array(grad).ravel()\n",
    "from scipy.optimize import minimize\n",
    "def one_vs_all(X, y, num_labels, learning_rate):\n",
    "rows = X.shape[0] #5000\n",
    "params = X.shape[1] #400\n",
    "# k X (n + 1) array for the parameters of each of the k classifiers\n",
    "all_theta = np.zeros((num_labels, params + 1))\n",
    "print('all_theta shape ' , all_theta.shape)\n",
    "# insert a column of ones at the beginning for the intercept term\n",
    "X = np.insert(X, 0, values=np.ones(rows), axis=1)\n",
    "print('X shape ' , X.shape)\n",
    "# labels are 1-indexed instead of 0-indexed\n",
    "for i in range(1, num_labels + 1):\n",
    "theta = np.zeros(params + 1)\n",
    "y_i = np.array([1 if label == i else 0 for label in y])\n",
    "y_i = np.reshape(y_i, (rows, 1))"
   ]
  },
  {
   "cell_type": "code",
   "execution_count": null,
   "metadata": {},
   "outputs": [],
   "source": [
    "# minimize the objective function\n",
    "fmin = minimize(fun=cost, x0=theta, args=(X, y_i, learning_rate), method='TNC',\n",
    "jac=gradient)\n",
    "all_theta[i-1,:] = fmin.x\n",
    "return all_theta\n",
    "rows = data['X'].shape[0]\n",
    "params = data['X'].shape[1]\n",
    "print('rows = ' ,rows)\n",
    "print('params = ' , params)\n",
    "print('===================================================')\n",
    "all_theta = np.zeros((10, params + 1))\n",
    "print('all_theta \\n' , all_theta)\n",
    "print('all_theta shape \\n' , all_theta.shape)\n",
    "print('===================================================')\n",
    "X = np.insert(data['X'], 0, values=np.ones(rows), axis=1)\n",
    "print(X)\n",
    "print('X Shape = ' , X.shape)\n",
    "print('===================================================')\n",
    "theta = np.zeros(params + 1)"
   ]
  },
  {
   "cell_type": "code",
   "execution_count": null,
   "metadata": {},
   "outputs": [],
   "source": [
    "print('theta \\n' , theta )\n",
    "print('===================================================')\n",
    "y_0 = np.array([1 if label == 0 else 0 for label in data['y']])\n",
    "print('y_0')\n",
    "print(y_0.shape)\n",
    "print(y_0)\n",
    "print('===================================================')\n",
    "y_0 = np.reshape(y_0, (rows, 1))\n",
    "print('y_0')\n",
    "print(y_0.shape)\n",
    "print(y_0)\n",
    "print('===================================================')\n",
    "print()\n",
    "print('X.shape = ',X.shape)\n",
    "print()\n",
    "print('y.shape = ',y_0.shape)\n",
    "print()\n",
    "print('theta.shape = ',theta.shape)\n",
    "print()\n",
    "print('all_theta.shape = ',all_theta.shape)\n",
    "print()\n",
    "print('data array = ' , np.unique(data['y']))\n",
    "print()"
   ]
  },
  {
   "cell_type": "code",
   "execution_count": null,
   "metadata": {},
   "outputs": [],
   "source": [
    "all_theta = one_vs_all(data['X'], data['y'], 1, 1)\n",
    "print('Theta shape = ' , all_theta.shape)\n",
    "print('Theta = ')\n",
    "print(all_theta)\n",
    "def predict_all(X, all_theta):\n",
    "rows = X.shape[0]\n",
    "params = X.shape[1]\n",
    "num_labels = all_theta.shape[0]\n",
    "# same as before, insert ones to match the shape\n",
    "X = np.insert(X, 0, values=np.ones(rows), axis=1)\n",
    "# convert to matrices\n",
    "X = np.matrix(X)\n",
    "all_theta = np.matrix(all_theta)\n",
    "# compute the class probability for each class on each training instance\n",
    "h = sigmoid(X * all_theta.T)\n",
    "# create array of the index with the maximum probability\n",
    "h_argmax = np.argmax(h, axis=1)\n",
    "# because our array was zero-indexed we need to add one for the true label\n",
    "prediction\n",
    "h_argmax = h_argmax + 1\n",
    "return h_argmax\n",
    "y_pred = predict_all(data['X'], all_theta)"
   ]
  },
  {
   "cell_type": "code",
   "execution_count": null,
   "metadata": {},
   "outputs": [],
   "source": [
    "correct = [1 if a == b else 0 for (a, b) in zip(y_pred, data['y'])]\n",
    "accuracy = (sum(map(int, correct)) / float(len(correct)))\n",
    "print ('accuracy = {0}%'.format(accuracy * 100))"
   ]
  }
 ],
 "metadata": {
  "kernelspec": {
   "display_name": "Python 3",
   "language": "python",
   "name": "python3"
  },
  "language_info": {
   "name": "python",
   "version": "3.10.8"
  },
  "orig_nbformat": 4,
  "vscode": {
   "interpreter": {
    "hash": "ab58cbacd942ca503049d3378ed1180a79e5c5d17c40fd38c92a577d131c0358"
   }
  }
 },
 "nbformat": 4,
 "nbformat_minor": 2
}
