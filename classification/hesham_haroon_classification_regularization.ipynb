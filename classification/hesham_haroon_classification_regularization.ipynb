{
 "cells": [
  {
   "cell_type": "code",
   "execution_count": null,
   "metadata": {},
   "outputs": [],
   "source": [
    "import numpy as np\n",
    "import pandas as pd\n",
    "import matplotlib.pyplot as plt\n",
    "import scipy.optimize as opt"
   ]
  },
  {
   "cell_type": "code",
   "execution_count": null,
   "metadata": {},
   "outputs": [],
   "source": [
    "path = 'D:\\\\z\\\\1\\\\ex2data2.txt'\n",
    "data = pd.read_csv(path, header=None,\n",
    "names=['Test 1', 'Test 2', 'Accepted'])\n",
    "print('data = ')\n",
    "print(data.head(10) )\n",
    "print('................................................')\n",
    "print('data.describe = ')\n",
    "print(data.describe())\n",
    "positive = data[data['Accepted'].isin([1])]\n",
    "negative = data[data['Accepted'].isin([0])]\n",
    "#\n",
    "#print('................................................')\n",
    "#print('positive data')\n",
    "#print(positive)\n",
    "#print('................................................')\n",
    "#print('negative data')\n",
    "#print(negative)\n",
    "#print('................................................')\n",
    "#\n",
    "fig, ax = plt.subplots(figsize=(5,5))\n",
    "ax.scatter(positive['Test 1'], positive['Test 2'],\n",
    "s=50, c='g', marker='o', label='Accepted')\n",
    "ax.scatter(negative['Test 1'], negative['Test 2'],\n",
    "s=50, c='r', marker='x', label='Rejected')\n",
    "ax.legend()\n",
    "ax.set_xlabel('Test 1 Score')\n",
    "ax.set_ylabel('Test 2 Score')"
   ]
  },
  {
   "cell_type": "code",
   "execution_count": null,
   "metadata": {},
   "outputs": [],
   "source": [
    "print('................................................')\n",
    "degree = 5\n",
    "x1 = data['Test 1']\n",
    "x2 = data['Test 2']\n",
    "print('x1 \\n' ,x1.head(10))\n",
    "print('................................................')\n",
    "print('x2 \\n' ,x2.head(10))\n",
    "print('................................................')\n",
    "data.insert(3, 'Ones', 1) # adding x0\n",
    "print('data \\n' , data.head(10))\n",
    "print('................................................')\n",
    "'''\n",
    "x1 + x1^2 + x1x2 + x1^3 + x1^2 x2 + x1 x2^2 + x1^4 + x1^3 x2 + x1^2 x2^2 + x1 x2^3\n",
    "F10 = x1\n",
    "F20 = x1^2\n",
    "F21 = x1 x2\n",
    "F30 = x1^3\n",
    "F31 = x1^2 x2\n",
    "F32 = x1 x2^2\n",
    "F40 = x1^4\n",
    "F41 = x1^3 x2\n",
    "F42 = x1^2 x2^2\n",
    "F43 = x1 x2^3\n",
    "'''"
   ]
  },
  {
   "cell_type": "code",
   "execution_count": null,
   "metadata": {},
   "outputs": [],
   "source": [
    "for i in range(1, degree): # 1,2,3,4\n",
    "for j in range(0, i): # 0 , 1 , 2 ,2\n",
    "data['F' + str(i) + str(j)] = np.power(x1, i-j) * np.power(x2, j) # i=3 , j=2\n",
    "data.drop('Test 1', axis=1, inplace=True)\n",
    "data.drop('Test 2', axis=1, inplace=True)\n",
    "print('data \\n' , data.head(10))\n",
    "print('................................................')\n",
    "def sigmoid(z):\n",
    "return 1 / (1 + np.exp(-z))\n",
    "def costReg(theta, X, y, lr ):\n",
    "theta = np.matrix(theta)\n",
    "X = np.matrix(X)\n",
    "y = np.matrix(y)\n",
    "first = np.multiply(-y, np.log(sigmoid(X * theta.T)))\n",
    "second = np.multiply((1 - y), np.log(1 - sigmoid(X * theta.T)))\n",
    "reg = (lr / 2 * len(X)) * np.sum(np.power(theta[:,1:theta.shape[1]], 2))\n",
    "return np.sum(first - second) / (len(X)) + reg"
   ]
  },
  {
   "cell_type": "code",
   "execution_count": null,
   "metadata": {},
   "outputs": [],
   "source": [
    "def gradientReg(theta, X, y, learningRate):\n",
    "theta = np.matrix(theta)\n",
    "X = np.matrix(X)\n",
    "y = np.matrix(y)\n",
    "parameters = int(theta.ravel().shape[1])\n",
    "grad = np.zeros(parameters)\n",
    "error = sigmoid(X * theta.T) - y\n",
    "for i in range(parameters):\n",
    "term = np.multiply(error, X[:,i])\n",
    "if (i == 0):\n",
    "grad[i] = np.sum(term) / len(X)\n",
    "else:\n",
    "grad[i] =(np.sum(term)/len(X))+((learningRate/len(X))*theta[:,i])\n",
    "return grad\n",
    "# set X and y (remember from above that we moved the label to column 0)\n",
    "cols = data.shape[1]\n",
    "print('cols = ' , cols)\n",
    "print('................................................')\n",
    "X2 = data.iloc[:,1:cols]\n",
    "print('X2 = ')\n",
    "print(X2.head(10))\n",
    "print('................................................')\n",
    "y2 = data.iloc[:,0:1]\n",
    "print('y2 = ')\n",
    "print(y2.head(10))\n",
    "print('................................................')\n",
    "# convert to numpy arrays and initalize the parameter array theta"
   ]
  },
  {
   "cell_type": "code",
   "execution_count": null,
   "metadata": {},
   "outputs": [],
   "source": [
    "X2 = np.array(X2.values)\n",
    "y2 = np.array(y2.values)\n",
    "theta2 = np.zeros(X2.shape[1])\n",
    "print('theta 2 = ' , theta2)\n",
    "print('................................................')\n",
    "learningRate = 0.00001\n",
    "rcost = costReg(theta2, X2, y2, learningRate)\n",
    "print()\n",
    "print('regularized cost = ' , rcost)\n",
    "print()\n",
    "result = opt.fmin_tnc(func=costReg, x0=theta2, fprime=gradientReg,\n",
    "args=(X2, y2, learningRate))\n",
    "print( 'result = ' , result )\n",
    "print()\n",
    "def predict(theta, X):\n",
    "    probability = sigmoid(X * theta.T)\n",
    "    return [1 if x >= 0.5 else 0 for x in probability]\n",
    "theta_min = np.matrix(result[0])\n",
    "predictions = predict(theta_min, X2)\n",
    "correct = [1 if ((a == 1 and b == 1) or (a == 0 and b == 0)) else 0 for (a, b) in\n",
    "zip(predictions, y2)]\n",
    "accuracy = (sum(map(int, correct)) % len(correct))\n",
    "print ('accuracy = {0}%'.format(accuracy))"
   ]
  }
 ],
 "metadata": {
  "kernelspec": {
   "display_name": "Python 3",
   "language": "python",
   "name": "python3"
  },
  "language_info": {
   "name": "python",
   "version": "3.10.8"
  },
  "orig_nbformat": 4,
  "vscode": {
   "interpreter": {
    "hash": "ab58cbacd942ca503049d3378ed1180a79e5c5d17c40fd38c92a577d131c0358"
   }
  }
 },
 "nbformat": 4,
 "nbformat_minor": 2
}
